{
  "nbformat": 4,
  "nbformat_minor": 0,
  "metadata": {
    "colab": {
      "provenance": [],
      "authorship_tag": "ABX9TyMVU3UdXU39DPVQU4PtI89f",
      "include_colab_link": true
    },
    "kernelspec": {
      "name": "python3",
      "display_name": "Python 3"
    },
    "language_info": {
      "name": "python"
    }
  },
  "cells": [
    {
      "cell_type": "markdown",
      "metadata": {
        "id": "view-in-github",
        "colab_type": "text"
      },
      "source": [
        "<a href=\"https://colab.research.google.com/github/Rynnsya/Jobsheet-02-DASAR-PYTHON-VARIABEL-INPUT-OUTPUT-DAN-OPERATOR/blob/main/Rasya_Pandu_Wicaksono_Jobsheet2.ipynb\" target=\"_parent\"><img src=\"https://colab.research.google.com/assets/colab-badge.svg\" alt=\"Open In Colab\"/></a>"
      ]
    },
    {
      "cell_type": "markdown",
      "source": [
        "Pengenalan Variable dan Tipe Data"
      ],
      "metadata": {
        "id": "RAV-YBD5cpGp"
      }
    },
    {
      "cell_type": "code",
      "source": [
        "umur = 18\n",
        "tinggi = 173\n",
        "nama = \"Rasya Pandu\"\n",
        "is_mahasiswa = True\n",
        "nilai = 88.75\n",
        "koordinat = (7, 110)\n",
        "mahasiswa = {\"nama\": \"Rasya\", \"umur\": 18, \"prodi\": \"Teknologi Rekayasa Komputer\"}\n",
        "hobi = [\"musik\", \"coding\", \"jalan-jalan\"]\n",
        "\n",
        "print(\"Umur:\", umur, \"->\", type(umur))\n",
        "print(\"Tinggi:\", tinggi, \"->\", type(tinggi))\n",
        "print(\"Nama:\", nama, \"->\", type(nama))\n",
        "print(\"Status Mahasiswa:\", is_mahasiswa, \"->\", type(is_mahasiswa))\n",
        "print(\"Nilai:\", nilai, \"->\", type(nilai))\n",
        "print(\"Koordinat:\", koordinat, \"->\", type(koordinat))\n",
        "print(\"Data Mahasiswa:\", mahasiswa, \"->\", type(mahasiswa))\n",
        "print(\"Hobi:\", hobi, \"->\", type(hobi))\n"
      ],
      "metadata": {
        "colab": {
          "base_uri": "https://localhost:8080/"
        },
        "id": "xEvOVbzNcvwZ",
        "outputId": "960c45a6-50ba-4cc3-9e7f-e21536598846"
      },
      "execution_count": 2,
      "outputs": [
        {
          "output_type": "stream",
          "name": "stdout",
          "text": [
            "Umur: 18 -> <class 'int'>\n",
            "Tinggi: 173 -> <class 'int'>\n",
            "Nama: Rasya Pandu -> <class 'str'>\n",
            "Status Mahasiswa: True -> <class 'bool'>\n",
            "Nilai: 88.75 -> <class 'float'>\n",
            "Koordinat: (7, 110) -> <class 'tuple'>\n",
            "Data Mahasiswa: {'nama': 'Rasya', 'umur': 18, 'prodi': 'Teknologi Rekayasa Komputer'} -> <class 'dict'>\n",
            "Hobi: ['musik', 'coding', 'jalan-jalan'] -> <class 'list'>\n"
          ]
        }
      ]
    },
    {
      "cell_type": "markdown",
      "source": [
        "Input dan Output Dasar"
      ],
      "metadata": {
        "id": "3I4gHEqNeGqS"
      }
    },
    {
      "cell_type": "code",
      "source": [
        "\n",
        "nama = input(\"Masukkan nama Anda: \")\n",
        "umur = int(input(\"Masukkan umur Anda: \"))\n",
        "tinggi = float(input(\"Masukkan tinggi badan (cm): \"))\n",
        "print(\"Halo,\", nama, \"umur Anda:\", umur, \"tahun, tinggi:\", tinggi, \"cm\")\n",
        "print(\"Halo {0}, umur Anda {1} tahun, tinggi {2} cm\".format(nama, umur, tinggi))\n",
        "print(f\"Halo {nama}, umur Anda {umur} tahun, tinggi {tinggi} cm\")"
      ],
      "metadata": {
        "colab": {
          "base_uri": "https://localhost:8080/"
        },
        "id": "jqgxl3XCdaxq",
        "outputId": "83c0781a-9b09-49f5-98e2-f185d0af08bd"
      },
      "execution_count": 3,
      "outputs": [
        {
          "output_type": "stream",
          "name": "stdout",
          "text": [
            "Masukkan nama Anda: Rasya\n",
            "Masukkan umur Anda: 18\n",
            "Masukkan tinggi badan (cm): 173\n",
            "Halo, Rasya umur Anda: 18 tahun, tinggi: 173.0 cm\n",
            "Halo Rasya, umur Anda 18 tahun, tinggi 173.0 cm\n",
            "Halo Rasya, umur Anda 18 tahun, tinggi 173.0 cm\n"
          ]
        }
      ]
    },
    {
      "cell_type": "markdown",
      "source": [
        "Operator Aritmatika"
      ],
      "metadata": {
        "id": "tytAfPQjeLS5"
      }
    },
    {
      "cell_type": "code",
      "source": [
        "a = 20\n",
        "b = 4\n",
        "print(\"a + b =\", a + b)\n",
        "print(\"a - b =\", a - b)\n",
        "print(\"a * b =\", a * b)\n",
        "print(\"a / b =\", a / b)\n",
        "print(\"a // b =\", a // b)\n",
        "print(\"a % b =\", a % b)\n",
        "print(\"a ** b =\", a ** b)"
      ],
      "metadata": {
        "colab": {
          "base_uri": "https://localhost:8080/"
        },
        "id": "6EKmFS9JeNqO",
        "outputId": "bbf15db8-b304-4567-d803-6e58723130e6"
      },
      "execution_count": 5,
      "outputs": [
        {
          "output_type": "stream",
          "name": "stdout",
          "text": [
            "a + b = 24\n",
            "a - b = 16\n",
            "a * b = 80\n",
            "a / b = 5.0\n",
            "a // b = 5\n",
            "a % b = 0\n",
            "a ** b = 160000\n"
          ]
        }
      ]
    },
    {
      "cell_type": "markdown",
      "source": [
        "Operator Relasional"
      ],
      "metadata": {
        "id": "gbL_xeC3eOOH"
      }
    },
    {
      "cell_type": "code",
      "source": [
        "x = 20\n",
        "y = 30\n",
        "print(\"x == y :\", x == y)\n",
        "print(\"x != y :\", x != y)\n",
        "print(\"x < y :\", x < y)\n",
        "print(\"x > y :\", x > y)\n",
        "print(\"x <= y :\", x <= y)\n",
        "print(\"x >= y :\", x >= y)"
      ],
      "metadata": {
        "colab": {
          "base_uri": "https://localhost:8080/"
        },
        "id": "vK1hdpdFee9K",
        "outputId": "c7baa014-4bc7-42a9-8385-0295b8fa8241"
      },
      "execution_count": 6,
      "outputs": [
        {
          "output_type": "stream",
          "name": "stdout",
          "text": [
            "x == y : False\n",
            "x != y : True\n",
            "x < y : True\n",
            "x > y : False\n",
            "x <= y : True\n",
            "x >= y : False\n"
          ]
        }
      ]
    },
    {
      "cell_type": "markdown",
      "source": [
        "Operator Logika dengan Studi Kasus Nyata"
      ],
      "metadata": {
        "id": "OmUHDIJYeigQ"
      }
    },
    {
      "cell_type": "code",
      "source": [
        "a = True\n",
        "b = False\n",
        "print(\"a and b =\", a and b)\n",
        "print(\"a or b =\", a or b)\n",
        "print(\"not a =\", not a)\n",
        "\n",
        "nilai = int(input(\"Masukkan nilai ujian: \"))\n",
        "hadir = int(input(\"Masukkan jumlah kehadiran: \"))\n",
        "\n",
        "lulus_nilai = nilai >= 60\n",
        "lulus_hadir = hadir >= 12\n",
        "\n",
        "if lulus_nilai and lulus_hadir:\n",
        "    print(\"Status: LULUS\")\n",
        "else:\n",
        "    print(\"Status: TIDAK LULUS\")"
      ],
      "metadata": {
        "colab": {
          "base_uri": "https://localhost:8080/"
        },
        "id": "UvIRub9uethB",
        "outputId": "a856820d-22b0-469d-d7c9-d796c29359b3"
      },
      "execution_count": 8,
      "outputs": [
        {
          "output_type": "stream",
          "name": "stdout",
          "text": [
            "a and b = False\n",
            "a or b = True\n",
            "not a = False\n",
            "Masukkan nilai ujian: 80\n",
            "Masukkan jumlah kehadiran: 26\n",
            "Status: LULUS\n"
          ]
        }
      ]
    },
    {
      "cell_type": "markdown",
      "source": [
        "Program Kasir Sederhana"
      ],
      "metadata": {
        "id": "ZJd60ff-evDD"
      }
    },
    {
      "cell_type": "code",
      "source": [
        "barang = input(\"Masukkan nama barang: \")\n",
        "harga = float(input(\"Masukkan harga barang: \"))\n",
        "jumlah = int(input(\"Masukkan jumlah barang: \"))\n",
        "\n",
        "total = harga * jumlah\n",
        "\n",
        "if total >= 500000:\n",
        "    diskon = 0.2\n",
        "elif total >= 250000:\n",
        "    diskon = 0.1\n",
        "else:\n",
        "    diskon = 0\n",
        "\n",
        "potongan = total * diskon\n",
        "bayar = total - potongan\n",
        "\n",
        "print(\"\\n===== Struk Belanja =====\")\n",
        "print(f\"Barang : {barang}\")\n",
        "print(f\"Jumlah : {jumlah}\")\n",
        "print(f\"Total : Rp {total}\")\n",
        "print(f\"Diskon : {diskon * 100}%\")\n",
        "print(f\"Bayar : Rp {bayar}\")"
      ],
      "metadata": {
        "colab": {
          "base_uri": "https://localhost:8080/"
        },
        "id": "_BynWuqgeyOH",
        "outputId": "91c4f359-bab3-44f5-d059-aaba1f3bf8ff"
      },
      "execution_count": 9,
      "outputs": [
        {
          "output_type": "stream",
          "name": "stdout",
          "text": [
            "Masukkan nama barang: sepatu\n",
            "Masukkan harga barang: 500000\n",
            "Masukkan jumlah barang: 2\n",
            "\n",
            "===== Struk Belanja =====\n",
            "Barang : sepatu\n",
            "Jumlah : 2\n",
            "Total : Rp 1000000.0\n",
            "Diskon : 20.0%\n",
            "Bayar : Rp 800000.0\n"
          ]
        }
      ]
    },
    {
      "cell_type": "markdown",
      "source": [
        "Penugasan 3, Identitas Mahasiswa"
      ],
      "metadata": {
        "id": "n6RHxhNVT9kd"
      }
    },
    {
      "cell_type": "code",
      "source": [
        "nama = \"Rasya Pandu\"\n",
        "umur = 18\n",
        "tinggi = 170.5\n",
        "status_aktif = True\n",
        "\n",
        "print(\"===== Data Mahasiswa =====\")\n",
        "print(f\"Nama          : {nama}\")\n",
        "print(f\"Umur          : {umur} tahun\")\n",
        "print(f\"Tinggi Badan  : {tinggi} cm\")\n",
        "print(f\"Status Aktif  : {status_aktif}\")"
      ],
      "metadata": {
        "colab": {
          "base_uri": "https://localhost:8080/"
        },
        "id": "XTD6IMT7UCTl",
        "outputId": "4f3a6a2c-7207-496e-8b59-5a3360d43e4c"
      },
      "execution_count": 10,
      "outputs": [
        {
          "output_type": "stream",
          "name": "stdout",
          "text": [
            "===== Data Mahasiswa =====\n",
            "Nama          : Rasya Pandu\n",
            "Umur          : 18 tahun\n",
            "Tinggi Badan  : 170.5 cm\n",
            "Status Aktif  : True\n"
          ]
        }
      ]
    },
    {
      "cell_type": "markdown",
      "source": [
        "Penugasan 4, Operasi Aritmatika"
      ],
      "metadata": {
        "id": "W7ZGRk-tULR7"
      }
    },
    {
      "cell_type": "code",
      "source": [
        "bil1 = int(input(\"Masukkan bilangan pertama: \"))\n",
        "bil2 = int(input(\"Masukkan bilangan kedua: \"))\n",
        "\n",
        "penjumlahan = bil1 + bil2\n",
        "pengurangan = bil1 - bil2\n",
        "perkalian = bil1 * bil2\n",
        "pembagian = bil1 / bil2\n",
        "sisa_bagi = bil1 % bil2\n",
        "pangkat = bil1 ** bil2\n",
        "\n",
        "print(\"\\n===== Hasil Perhitungan =====\")\n",
        "print(f\"Penjumlahan   : {bil1} + {bil2} = {penjumlahan}\")\n",
        "print(f\"Pengurangan   : {bil1} - {bil2} = {pengurangan}\")\n",
        "print(f\"Perkalian     : {bil1} × {bil2} = {perkalian}\")\n",
        "print(f\"Pembagian     : {bil1} ÷ {bil2} = {pembagian}\")\n",
        "print(f\"Sisa Bagi     : {bil1} % {bil2} = {sisa_bagi}\")\n",
        "print(f\"Perpangkatan  : {bil1} ** {bil2} = {pangkat}\")\n"
      ],
      "metadata": {
        "colab": {
          "base_uri": "https://localhost:8080/"
        },
        "id": "36Ocv0njUJMB",
        "outputId": "697ad132-fb4f-4aab-b786-299c46c09875"
      },
      "execution_count": 13,
      "outputs": [
        {
          "output_type": "stream",
          "name": "stdout",
          "text": [
            "Masukkan bilangan pertama: 20\n",
            "Masukkan bilangan kedua: 5\n",
            "\n",
            "===== Hasil Perhitungan =====\n",
            "Penjumlahan   : 20 + 5 = 25\n",
            "Pengurangan   : 20 - 5 = 15\n",
            "Perkalian     : 20 × 5 = 100\n",
            "Pembagian     : 20 ÷ 5 = 4.0\n",
            "Sisa Bagi     : 20 % 5 = 0\n",
            "Perpangkatan  : 20 ** 5 = 3200000\n"
          ]
        }
      ]
    },
    {
      "cell_type": "markdown",
      "source": [
        "Penugasan 5, Konversi Nilai"
      ],
      "metadata": {
        "id": "qjphhUtPU63c"
      }
    },
    {
      "cell_type": "code",
      "source": [
        "angka = float(input(\"Masukkan angka desimal: \"))\n",
        "\n",
        "print(\"\\n===== Hasil Konversi =====\")\n",
        "print(f\"Bilangan asli       : {angka}\")\n",
        "print(f\"Dalam bentuk integer: {int(angka)}\")\n",
        "print(f\"Dalam bentuk string : '{str(angka)}'\")\n",
        "print(f\"Hasil pembulatan (2 digit): {round(angka, 2)}\")"
      ],
      "metadata": {
        "colab": {
          "base_uri": "https://localhost:8080/"
        },
        "id": "0mcyLYQAU0dI",
        "outputId": "081cf409-6e28-4d48-d659-b63cc2417ce4"
      },
      "execution_count": 14,
      "outputs": [
        {
          "output_type": "stream",
          "name": "stdout",
          "text": [
            "Masukkan angka desimal: 1200\n",
            "\n",
            "===== Hasil Konversi =====\n",
            "Bilangan asli       : 1200.0\n",
            "Dalam bentuk integer: 1200\n",
            "Dalam bentuk string : '1200.0'\n",
            "Hasil pembulatan (2 digit): 1200.0\n"
          ]
        }
      ]
    },
    {
      "cell_type": "markdown",
      "source": [
        "Penugasan 6, Operator Relasional"
      ],
      "metadata": {
        "id": "eCExeJeyVJn-"
      }
    },
    {
      "cell_type": "code",
      "source": [
        "bil1 = float(input(\"Masukkan bilangan pertama: \"))\n",
        "bil2 = float(input(\"Masukkan bilangan kedua: \"))\n",
        "\n",
        "print(\"\\n===== Hasil Perbandingan =====\")\n",
        "print(f\"{bil1} == {bil2} → {bil1 == bil2}\")\n",
        "print(f\"{bil1} != {bil2} → {bil1 != bil2}\")\n",
        "print(f\"{bil1} <  {bil2} → {bil1 < bil2}\")\n",
        "print(f\"{bil1} >  {bil2} → {bil1 > bil2}\")\n",
        "print(f\"{bil1} <= {bil2} → {bil1 <= bil2}\")\n",
        "print(f\"{bil1} >= {bil2} → {bil1 >= bil2}\")"
      ],
      "metadata": {
        "colab": {
          "base_uri": "https://localhost:8080/"
        },
        "id": "o5nGs66YVDYR",
        "outputId": "099c1865-b359-4685-a3be-0508038e8b38"
      },
      "execution_count": 15,
      "outputs": [
        {
          "output_type": "stream",
          "name": "stdout",
          "text": [
            "Masukkan bilangan pertama: 40\n",
            "Masukkan bilangan kedua: 20\n",
            "\n",
            "===== Hasil Perbandingan =====\n",
            "40.0 == 20.0 → False\n",
            "40.0 != 20.0 → True\n",
            "40.0 <  20.0 → False\n",
            "40.0 >  20.0 → True\n",
            "40.0 <= 20.0 → False\n",
            "40.0 >= 20.0 → True\n"
          ]
        }
      ]
    }
  ]
}